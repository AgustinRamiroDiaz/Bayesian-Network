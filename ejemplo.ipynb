{
 "metadata": {
  "language_info": {
   "codemirror_mode": {
    "name": "ipython",
    "version": 3
   },
   "file_extension": ".py",
   "mimetype": "text/x-python",
   "name": "python",
   "nbconvert_exporter": "python",
   "pygments_lexer": "ipython3",
   "version": "3.8.6"
  },
  "orig_nbformat": 2,
  "kernelspec": {
   "name": "python386jvsc74a57bd0767d51c1340bd893661ea55ea3124f6de3c7a262a8b4abca0554b478b1e2ff90",
   "display_name": "Python 3.8.6 64-bit ('usr')"
  }
 },
 "nbformat": 4,
 "nbformat_minor": 2,
 "cells": [
  {
   "cell_type": "code",
   "execution_count": 1,
   "metadata": {},
   "outputs": [],
   "source": [
    "from bayesian_network import BayesianNetwork"
   ]
  },
  {
   "source": [
    "## Las tablas de probabilidades son el núcleo de la red\n",
    "En base a ellas se infieren los nodos y las probabilidades faltantes(que se pueden)\n",
    "\n",
    "El formato es:\n",
    "- Un registro por línea\n",
    "- Separados por coma:\n",
    "    - Variables de input separadas por coma\n",
    "    - Variable de output\n",
    "    - Probabilidad \n",
    "- La variable precedida de un \"no \" si es falsa\n",
    "\n",
    "\n",
    "Por ejemplo, si queremos representar los registros:\n",
    "- P(d1) = 0.002\n",
    "- P(d2) = 0.001\n",
    "- P(s1|d1) = 0.7\n",
    "- P(s1|¬d1) = 0.05\n",
    "- P(r|d1, d2) = 0.5\n",
    "- P(r|d1, ¬d2) = 0.5\n",
    "\n",
    "Escribiríamos el string \n",
    "\n",
    "```\n",
    "\"\"\"\n",
    "                d1,     0.002\n",
    "                d2,     0.001\n",
    "    d1,         s1,     0.7\n",
    "    no d1,      s1,     0.05\n",
    "    d1, d2,     r,      0.5\n",
    "    d1, no d2,  r,      0.5\n",
    "\"\"\"\n",
    "```\n",
    "-------^--------^--------^--------\n",
    "\n",
    "---||Inputs||Output||Probabilidad||"
   ],
   "cell_type": "markdown",
   "metadata": {}
  },
  {
   "cell_type": "code",
   "execution_count": 2,
   "metadata": {},
   "outputs": [],
   "source": [
    "tablas = \"\"\"d1, 0.002\n",
    "                d2, 0.001\n",
    "    d1,         s1, 0.7\n",
    "    no d1,      s1, 0.05\n",
    "    d1, d2,     r, 0.5\n",
    "    d1, no d2,  r, 0.5\n",
    "    no d1, d2,  r, 0.5\n",
    "    no d1, no d2, r, 0\n",
    "    d1, d2,     s2, 0.95\n",
    "    d1, no d2,  s2, 0.2\n",
    "    no d1, d2,  s2, 0.8\n",
    "    no d1, no d2, s2, 0.05\"\"\""
   ]
  },
  {
   "cell_type": "code",
   "execution_count": 3,
   "metadata": {},
   "outputs": [],
   "source": [
    "pronostico = BayesianNetwork(tablas)"
   ]
  },
  {
   "source": [
    "## Y para calcular es simplemente el string matemático!"
   ],
   "cell_type": "markdown",
   "metadata": {}
  },
  {
   "cell_type": "code",
   "execution_count": 6,
   "metadata": {},
   "outputs": [
    {
     "output_type": "stream",
     "name": "stdout",
     "text": [
      "P(d1 = False, d2 = True, s2 = True)\n= P(d1 = False, d2 = True, s2 = True, s1 = False, r = False) + P(d1 = False, d2 = True, s2 = True, s1 = False, r = True) + P(d1 = False, d2 = True, s2 = True, s1 = True, r = False) + P(d1 = False, d2 = True, s2 = True, s1 = True, r = True)\n\n\nCálculos auxiliares:\nP(d1 = False, d2 = True, s2 = True, s1 = False, r = False)\n=P(d1 = False) * P(d2 = True) * P(s2 = True | d1 = False, d2 = True) * P(s1 = False | d1 = False) * P(r = False | d1 = False, d2 = True)\n=0.998 * 0.001 * 0.8 * 0.95 * 0.5\n=0.00037924\n\nP(d1 = False, d2 = True, s2 = True, s1 = False, r = True)\n=P(d1 = False) * P(d2 = True) * P(s2 = True | d1 = False, d2 = True) * P(s1 = False | d1 = False) * P(r = True | d1 = False, d2 = True)\n=0.998 * 0.001 * 0.8 * 0.95 * 0.5\n=0.00037924\n\nP(d1 = False, d2 = True, s2 = True, s1 = True, r = False)\n=P(d1 = False) * P(d2 = True) * P(s2 = True | d1 = False, d2 = True) * P(s1 = True | d1 = False) * P(r = False | d1 = False, d2 = True)\n=0.998 * 0.001 * 0.8 * 0.05 * 0.5\n=1.9960000000000002e-05\n\nP(d1 = False, d2 = True, s2 = True, s1 = True, r = True)\n=P(d1 = False) * P(d2 = True) * P(s2 = True | d1 = False, d2 = True) * P(s1 = True | d1 = False) * P(r = True | d1 = False, d2 = True)\n=0.998 * 0.001 * 0.8 * 0.05 * 0.5\n=1.9960000000000002e-05\n\n"
     ]
    },
    {
     "output_type": "execute_result",
     "data": {
      "text/plain": [
       "0.0007983999999999999"
      ]
     },
     "metadata": {},
     "execution_count": 6
    }
   ],
   "source": [
    "pronostico.calcular('P(no d1, d2, s2)')"
   ]
  },
  {
   "cell_type": "code",
   "execution_count": 7,
   "metadata": {},
   "outputs": [
    {
     "output_type": "stream",
     "name": "stdout",
     "text": [
      "P(d1 = True, d2 = False, r = True)\n= P(d1 = True, d2 = False, r = True, s2 = False, s1 = False) + P(d1 = True, d2 = False, r = True, s2 = False, s1 = True) + P(d1 = True, d2 = False, r = True, s2 = True, s1 = False) + P(d1 = True, d2 = False, r = True, s2 = True, s1 = True)\n\n\nCálculos auxiliares:\nP(d1 = True, d2 = False, r = True, s2 = False, s1 = False)\n=P(d1 = True) * P(d2 = False) * P(r = True | d1 = True, d2 = False) * P(s2 = False | d1 = True, d2 = False) * P(s1 = False | d1 = True)\n=0.002 * 0.999 * 0.5 * 0.8 * 0.30000000000000004\n=0.00023976000000000008\n\nP(d1 = True, d2 = False, r = True, s2 = False, s1 = True)\n=P(d1 = True) * P(d2 = False) * P(r = True | d1 = True, d2 = False) * P(s2 = False | d1 = True, d2 = False) * P(s1 = True | d1 = True)\n=0.002 * 0.999 * 0.5 * 0.8 * 0.7\n=0.00055944\n\nP(d1 = True, d2 = False, r = True, s2 = True, s1 = False)\n=P(d1 = True) * P(d2 = False) * P(r = True | d1 = True, d2 = False) * P(s2 = True | d1 = True, d2 = False) * P(s1 = False | d1 = True)\n=0.002 * 0.999 * 0.5 * 0.2 * 0.30000000000000004\n=5.994000000000002e-05\n\nP(d1 = True, d2 = False, r = True, s2 = True, s1 = True)\n=P(d1 = True) * P(d2 = False) * P(r = True | d1 = True, d2 = False) * P(s2 = True | d1 = True, d2 = False) * P(s1 = True | d1 = True)\n=0.002 * 0.999 * 0.5 * 0.2 * 0.7\n=0.00013986\n\n"
     ]
    },
    {
     "output_type": "execute_result",
     "data": {
      "text/plain": [
       "0.000999"
      ]
     },
     "metadata": {},
     "execution_count": 7
    }
   ],
   "source": [
    "pronostico.calcular('P(d1, no d2, r)')"
   ]
  },
  {
   "cell_type": "code",
   "execution_count": 4,
   "metadata": {},
   "outputs": [
    {
     "output_type": "stream",
     "name": "stdout",
     "text": [
      "P(d1 = True, d2 = True)\n= P(d1 = True, d2 = True, s2 = False, s1 = False, r = False) + P(d1 = True, d2 = True, s2 = False, s1 = False, r = True) + P(d1 = True, d2 = True, s2 = False, s1 = True, r = False) + P(d1 = True, d2 = True, s2 = False, s1 = True, r = True) + P(d1 = True, d2 = True, s2 = True, s1 = False, r = False) + P(d1 = True, d2 = True, s2 = True, s1 = False, r = True) + P(d1 = True, d2 = True, s2 = True, s1 = True, r = False) + P(d1 = True, d2 = True, s2 = True, s1 = True, r = True)\n\n\nCálculos auxiliares:\nP(d1 = True, d2 = True, s2 = False, s1 = False, r = False)\n=P(d1 = True) * P(d2 = True) * P(s2 = False | d1 = True, d2 = True) * P(s1 = False | d1 = True) * P(r = False | d1 = True, d2 = True)\n=0.002 * 0.001 * 0.050000000000000044 * 0.30000000000000004 * 0.5\n=1.5000000000000015e-08\n\nP(d1 = True, d2 = True, s2 = False, s1 = False, r = True)\n=P(d1 = True) * P(d2 = True) * P(s2 = False | d1 = True, d2 = True) * P(s1 = False | d1 = True) * P(r = True | d1 = True, d2 = True)\n=0.002 * 0.001 * 0.050000000000000044 * 0.30000000000000004 * 0.5\n=1.5000000000000015e-08\n\nP(d1 = True, d2 = True, s2 = False, s1 = True, r = False)\n=P(d1 = True) * P(d2 = True) * P(s2 = False | d1 = True, d2 = True) * P(s1 = True | d1 = True) * P(r = False | d1 = True, d2 = True)\n=0.002 * 0.001 * 0.050000000000000044 * 0.7 * 0.5\n=3.500000000000003e-08\n\nP(d1 = True, d2 = True, s2 = False, s1 = True, r = True)\n=P(d1 = True) * P(d2 = True) * P(s2 = False | d1 = True, d2 = True) * P(s1 = True | d1 = True) * P(r = True | d1 = True, d2 = True)\n=0.002 * 0.001 * 0.050000000000000044 * 0.7 * 0.5\n=3.500000000000003e-08\n\nP(d1 = True, d2 = True, s2 = True, s1 = False, r = False)\n=P(d1 = True) * P(d2 = True) * P(s2 = True | d1 = True, d2 = True) * P(s1 = False | d1 = True) * P(r = False | d1 = True, d2 = True)\n=0.002 * 0.001 * 0.95 * 0.30000000000000004 * 0.5\n=2.85e-07\n\nP(d1 = True, d2 = True, s2 = True, s1 = False, r = True)\n=P(d1 = True) * P(d2 = True) * P(s2 = True | d1 = True, d2 = True) * P(s1 = False | d1 = True) * P(r = True | d1 = True, d2 = True)\n=0.002 * 0.001 * 0.95 * 0.30000000000000004 * 0.5\n=2.85e-07\n\nP(d1 = True, d2 = True, s2 = True, s1 = True, r = False)\n=P(d1 = True) * P(d2 = True) * P(s2 = True | d1 = True, d2 = True) * P(s1 = True | d1 = True) * P(r = False | d1 = True, d2 = True)\n=0.002 * 0.001 * 0.95 * 0.7 * 0.5\n=6.649999999999999e-07\n\nP(d1 = True, d2 = True, s2 = True, s1 = True, r = True)\n=P(d1 = True) * P(d2 = True) * P(s2 = True | d1 = True, d2 = True) * P(s1 = True | d1 = True) * P(r = True | d1 = True, d2 = True)\n=0.002 * 0.001 * 0.95 * 0.7 * 0.5\n=6.649999999999999e-07\n\nP(d1 = True, d2 = True, r = True)\n= P(d1 = True, d2 = True, r = True, s2 = False, s1 = False) + P(d1 = True, d2 = True, r = True, s2 = False, s1 = True) + P(d1 = True, d2 = True, r = True, s2 = True, s1 = False) + P(d1 = True, d2 = True, r = True, s2 = True, s1 = True)\n\n\nCálculos auxiliares:\nP(d1 = True, d2 = True, r = True, s2 = False, s1 = False)\n=P(d1 = True) * P(d2 = True) * P(r = True | d1 = True, d2 = True) * P(s2 = False | d1 = True, d2 = True) * P(s1 = False | d1 = True)\n=0.002 * 0.001 * 0.5 * 0.050000000000000044 * 0.30000000000000004\n=1.5000000000000015e-08\n\nP(d1 = True, d2 = True, r = True, s2 = False, s1 = True)\n=P(d1 = True) * P(d2 = True) * P(r = True | d1 = True, d2 = True) * P(s2 = False | d1 = True, d2 = True) * P(s1 = True | d1 = True)\n=0.002 * 0.001 * 0.5 * 0.050000000000000044 * 0.7\n=3.500000000000003e-08\n\nP(d1 = True, d2 = True, r = True, s2 = True, s1 = False)\n=P(d1 = True) * P(d2 = True) * P(r = True | d1 = True, d2 = True) * P(s2 = True | d1 = True, d2 = True) * P(s1 = False | d1 = True)\n=0.002 * 0.001 * 0.5 * 0.95 * 0.30000000000000004\n=2.85e-07\n\nP(d1 = True, d2 = True, r = True, s2 = True, s1 = True)\n=P(d1 = True) * P(d2 = True) * P(r = True | d1 = True, d2 = True) * P(s2 = True | d1 = True, d2 = True) * P(s1 = True | d1 = True)\n=0.002 * 0.001 * 0.5 * 0.95 * 0.7\n=6.649999999999999e-07\n\n"
     ]
    },
    {
     "output_type": "execute_result",
     "data": {
      "text/plain": [
       "0.5"
      ]
     },
     "metadata": {},
     "execution_count": 4
    }
   ],
   "source": [
    "pronostico.calcular(\"P( r   |      d1,d2)      \")"
   ]
  },
  {
   "cell_type": "code",
   "execution_count": 5,
   "metadata": {},
   "outputs": [
    {
     "output_type": "stream",
     "name": "stdout",
     "text": [
      "P(d1 = True, d2 = True, r = True)\n= P(d1 = True, d2 = True, r = True, s2 = False, s1 = False) + P(d1 = True, d2 = True, r = True, s2 = False, s1 = True) + P(d1 = True, d2 = True, r = True, s2 = True, s1 = False) + P(d1 = True, d2 = True, r = True, s2 = True, s1 = True)\n\n\nCálculos auxiliares:\nP(d1 = True, d2 = True, r = True, s2 = False, s1 = False)\n=P(d1 = True) * P(d2 = True) * P(r = True | d1 = True, d2 = True) * P(s2 = False | d1 = True, d2 = True) * P(s1 = False | d1 = True)\n=0.002 * 0.001 * 0.5 * 0.050000000000000044 * 0.30000000000000004\n=1.5000000000000015e-08\n\nP(d1 = True, d2 = True, r = True, s2 = False, s1 = True)\n=P(d1 = True) * P(d2 = True) * P(r = True | d1 = True, d2 = True) * P(s2 = False | d1 = True, d2 = True) * P(s1 = True | d1 = True)\n=0.002 * 0.001 * 0.5 * 0.050000000000000044 * 0.7\n=3.500000000000003e-08\n\nP(d1 = True, d2 = True, r = True, s2 = True, s1 = False)\n=P(d1 = True) * P(d2 = True) * P(r = True | d1 = True, d2 = True) * P(s2 = True | d1 = True, d2 = True) * P(s1 = False | d1 = True)\n=0.002 * 0.001 * 0.5 * 0.95 * 0.30000000000000004\n=2.85e-07\n\nP(d1 = True, d2 = True, r = True, s2 = True, s1 = True)\n=P(d1 = True) * P(d2 = True) * P(r = True | d1 = True, d2 = True) * P(s2 = True | d1 = True, d2 = True) * P(s1 = True | d1 = True)\n=0.002 * 0.001 * 0.5 * 0.95 * 0.7\n=6.649999999999999e-07\n\n"
     ]
    },
    {
     "output_type": "execute_result",
     "data": {
      "text/plain": [
       "1e-06"
      ]
     },
     "metadata": {},
     "execution_count": 5
    }
   ],
   "source": [
    "pronostico.calcular('  P (      d1 , d2, r)')"
   ]
  },
  {
   "cell_type": "code",
   "execution_count": 4,
   "metadata": {},
   "outputs": [
    {
     "output_type": "execute_result",
     "data": {
      "text/plain": [
       "{'d1', 'd2', 'r', 's1', 's2'}"
      ]
     },
     "metadata": {},
     "execution_count": 4
    }
   ],
   "source": [
    "pronostico.nodos"
   ]
  },
  {
   "cell_type": "code",
   "execution_count": 5,
   "metadata": {},
   "outputs": [
    {
     "output_type": "execute_result",
     "data": {
      "text/plain": [
       "{((), ('d1', True)): 0.002,\n",
       " ((), ('d2', True)): 0.001,\n",
       " ((('d1', True),), ('s1', True)): 0.7,\n",
       " ((('d1', False),), ('s1', True)): 0.05,\n",
       " ((('d1', True), ('d2', True)), ('r', True)): 0.5,\n",
       " ((('d1', True), ('d2', False)), ('r', True)): 0.5,\n",
       " ((('d1', False), ('d2', True)), ('r', True)): 0.5,\n",
       " ((('d1', False), ('d2', False)), ('r', True)): 0.0,\n",
       " ((('d1', True), ('d2', True)), ('s2', True)): 0.95,\n",
       " ((('d1', True), ('d2', False)), ('s2', True)): 0.2,\n",
       " ((('d1', False), ('d2', True)), ('s2', True)): 0.8,\n",
       " ((('d1', False), ('d2', False)), ('s2', True)): 0.05,\n",
       " ((), ('d1', False)): 0.998,\n",
       " ((), ('d2', False)): 0.999,\n",
       " ((('d1', True),), ('s1', False)): 0.30000000000000004,\n",
       " ((('d1', False),), ('s1', False)): 0.95,\n",
       " ((('d1', True), ('d2', True)), ('r', False)): 0.5,\n",
       " ((('d1', True), ('d2', False)), ('r', False)): 0.5,\n",
       " ((('d1', False), ('d2', True)), ('r', False)): 0.5,\n",
       " ((('d1', False), ('d2', False)), ('r', False)): 1.0,\n",
       " ((('d1', True), ('d2', True)), ('s2', False)): 0.050000000000000044,\n",
       " ((('d1', True), ('d2', False)), ('s2', False)): 0.8,\n",
       " ((('d1', False), ('d2', True)), ('s2', False)): 0.19999999999999996,\n",
       " ((('d1', False), ('d2', False)), ('s2', False)): 0.95}"
      ]
     },
     "metadata": {},
     "execution_count": 5
    }
   ],
   "source": [
    "pronostico.tablasDeProbabilidades"
   ]
  },
  {
   "cell_type": "code",
   "execution_count": 6,
   "metadata": {},
   "outputs": [
    {
     "output_type": "stream",
     "name": "stdout",
     "text": [
      "P(d1 = True, d2 = False, s1 = True, r = True, s2 = False)\n= P(d1 = True, d2 = False, s1 = True, r = True, s2 = False)\n\n\nCálculos auxiliares:\nP(d1 = True, d2 = False, s1 = True, r = True, s2 = False)\n=P(d1 = True) * P(d2 = False) * P(s1 = True | d1 = True) * P(r = True | d1 = True, d2 = False) * P(s2 = False | d1 = True, d2 = False)\n=0.002 * 0.999 * 0.7 * 0.5 * 0.8\n=0.00055944\n\n"
     ]
    },
    {
     "output_type": "execute_result",
     "data": {
      "text/plain": [
       "0.00055944"
      ]
     },
     "metadata": {},
     "execution_count": 6
    }
   ],
   "source": [
    "pronostico.probabilidadDeInstancia({\n",
    "    'd1': 1, \n",
    "    'd2': 0, \n",
    "    's1': 1,\n",
    "    'r': 1,\n",
    "    's2': 0\n",
    "    })"
   ]
  },
  {
   "cell_type": "code",
   "execution_count": 7,
   "metadata": {},
   "outputs": [
    {
     "output_type": "stream",
     "name": "stdout",
     "text": [
      "P(d1 = True, s1 = False, r = True, s2 = True)\n= P(d1 = True, s1 = False, r = True, s2 = True, d2 = False) + P(d1 = True, s1 = False, r = True, s2 = True, d2 = True)\n\n\nCálculos auxiliares:\nP(d1 = True, s1 = False, r = True, s2 = True, d2 = False)\n=P(d1 = True) * P(s1 = False | d1 = True) * P(r = True | d1 = True, d2 = False) * P(s2 = True | d1 = True, d2 = False) * P(d2 = False)\n=0.002 * 0.30000000000000004 * 0.5 * 0.2 * 0.999\n=5.9940000000000005e-05\n\nP(d1 = True, s1 = False, r = True, s2 = True, d2 = True)\n=P(d1 = True) * P(s1 = False | d1 = True) * P(r = True | d1 = True, d2 = True) * P(s2 = True | d1 = True, d2 = True) * P(d2 = True)\n=0.002 * 0.30000000000000004 * 0.5 * 0.95 * 0.001\n=2.8499999999999997e-07\n\nP(s1 = False, r = True, s2 = True)\n= P(s1 = False, r = True, s2 = True, d1 = False, d2 = False) + P(s1 = False, r = True, s2 = True, d1 = False, d2 = True) + P(s1 = False, r = True, s2 = True, d1 = True, d2 = False) + P(s1 = False, r = True, s2 = True, d1 = True, d2 = True)\n\n\nCálculos auxiliares:\nP(s1 = False, r = True, s2 = True, d1 = False, d2 = False)\n=P(s1 = False | d1 = False) * P(r = True | d1 = False, d2 = False) * P(s2 = True | d1 = False, d2 = False) * P(d1 = False) * P(d2 = False)\n=0.95 * 0.0 * 0.05 * 0.998 * 0.999\n=0.0\n\nP(s1 = False, r = True, s2 = True, d1 = False, d2 = True)\n=P(s1 = False | d1 = False) * P(r = True | d1 = False, d2 = True) * P(s2 = True | d1 = False, d2 = True) * P(d1 = False) * P(d2 = True)\n=0.95 * 0.5 * 0.8 * 0.998 * 0.001\n=0.00037924000000000003\n\nP(s1 = False, r = True, s2 = True, d1 = True, d2 = False)\n=P(s1 = False | d1 = True) * P(r = True | d1 = True, d2 = False) * P(s2 = True | d1 = True, d2 = False) * P(d1 = True) * P(d2 = False)\n=0.30000000000000004 * 0.5 * 0.2 * 0.002 * 0.999\n=5.994000000000001e-05\n\nP(s1 = False, r = True, s2 = True, d1 = True, d2 = True)\n=P(s1 = False | d1 = True) * P(r = True | d1 = True, d2 = True) * P(s2 = True | d1 = True, d2 = True) * P(d1 = True) * P(d2 = True)\n=0.30000000000000004 * 0.5 * 0.95 * 0.002 * 0.001\n=2.85e-07\n\n"
     ]
    },
    {
     "output_type": "execute_result",
     "data": {
      "text/plain": [
       "0.13704163016394935"
      ]
     },
     "metadata": {},
     "execution_count": 7
    }
   ],
   "source": [
    "pronostico.probabilidadDeInstancia({ \n",
    "    'd1': 1, \n",
    "    's1': 0,\n",
    "    'r': 1,\n",
    "    's2': 1\n",
    "    }) /    pronostico.probabilidadDeInstancia({ \n",
    "    's1': 0,\n",
    "    'r': 1,\n",
    "    's2': 1\n",
    "    })"
   ]
  },
  {
   "cell_type": "code",
   "execution_count": 8,
   "metadata": {},
   "outputs": [
    {
     "output_type": "stream",
     "name": "stdout",
     "text": [
      "P(s1 = False, r = True, s2 = True)\n= P(s1 = False, r = True, s2 = True, d1 = False, d2 = False) + P(s1 = False, r = True, s2 = True, d1 = False, d2 = True) + P(s1 = False, r = True, s2 = True, d1 = True, d2 = False) + P(s1 = False, r = True, s2 = True, d1 = True, d2 = True)\n\n\nCálculos auxiliares:\nP(s1 = False, r = True, s2 = True, d1 = False, d2 = False)\n=P(s1 = False | d1 = False) * P(r = True | d1 = False, d2 = False) * P(s2 = True | d1 = False, d2 = False) * P(d1 = False) * P(d2 = False)\n=0.95 * 0.0 * 0.05 * 0.998 * 0.999\n=0.0\n\nP(s1 = False, r = True, s2 = True, d1 = False, d2 = True)\n=P(s1 = False | d1 = False) * P(r = True | d1 = False, d2 = True) * P(s2 = True | d1 = False, d2 = True) * P(d1 = False) * P(d2 = True)\n=0.95 * 0.5 * 0.8 * 0.998 * 0.001\n=0.00037924000000000003\n\nP(s1 = False, r = True, s2 = True, d1 = True, d2 = False)\n=P(s1 = False | d1 = True) * P(r = True | d1 = True, d2 = False) * P(s2 = True | d1 = True, d2 = False) * P(d1 = True) * P(d2 = False)\n=0.30000000000000004 * 0.5 * 0.2 * 0.002 * 0.999\n=5.994000000000001e-05\n\nP(s1 = False, r = True, s2 = True, d1 = True, d2 = True)\n=P(s1 = False | d1 = True) * P(r = True | d1 = True, d2 = True) * P(s2 = True | d1 = True, d2 = True) * P(d1 = True) * P(d2 = True)\n=0.30000000000000004 * 0.5 * 0.95 * 0.002 * 0.001\n=2.85e-07\n\nP(s1 = False, r = True, s2 = True, d1 = True)\n= P(s1 = False, r = True, s2 = True, d1 = True, d2 = False) + P(s1 = False, r = True, s2 = True, d1 = True, d2 = True)\n\n\nCálculos auxiliares:\nP(s1 = False, r = True, s2 = True, d1 = True, d2 = False)\n=P(s1 = False | d1 = True) * P(r = True | d1 = True, d2 = False) * P(s2 = True | d1 = True, d2 = False) * P(d1 = True) * P(d2 = False)\n=0.30000000000000004 * 0.5 * 0.2 * 0.002 * 0.999\n=5.994000000000001e-05\n\nP(s1 = False, r = True, s2 = True, d1 = True, d2 = True)\n=P(s1 = False | d1 = True) * P(r = True | d1 = True, d2 = True) * P(s2 = True | d1 = True, d2 = True) * P(d1 = True) * P(d2 = True)\n=0.30000000000000004 * 0.5 * 0.95 * 0.002 * 0.001\n=2.85e-07\n\n"
     ]
    },
    {
     "output_type": "execute_result",
     "data": {
      "text/plain": [
       "0.13704163016394935"
      ]
     },
     "metadata": {},
     "execution_count": 8
    }
   ],
   "source": [
    "pronostico.probabilidadCondicional(\n",
    "    { 'd1': 1 },\n",
    "    {'s1': 0,\n",
    "    'r': 1,\n",
    "    's2': 1}\n",
    ")"
   ]
  }
 ]
}